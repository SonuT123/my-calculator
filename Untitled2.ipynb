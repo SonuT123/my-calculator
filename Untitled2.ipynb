{
  "nbformat": 4,
  "nbformat_minor": 0,
  "metadata": {
    "colab": {
      "provenance": [],
      "toc_visible": true
    },
    "kernelspec": {
      "name": "python3",
      "display_name": "Python 3"
    },
    "language_info": {
      "name": "python"
    }
  },
  "cells": [
    {
      "cell_type": "code",
      "execution_count": 1,
      "metadata": {
        "colab": {
          "base_uri": "https://localhost:8080/"
        },
        "id": "OjOK6ah_UeUY",
        "outputId": "9e3462ac-5943-4cf0-b92b-65daf3b066cb"
      },
      "outputs": [
        {
          "name": "stdout",
          "output_type": "stream",
          "text": [
            "Select operation:\n",
            "1. Add\n",
            "2. Subtract\n",
            "3. Multiply\n",
            "4. Divide\n",
            "Enter choice (1/2/3/4) or 'exit' to quit: 45\n",
            "Invalid input. Please try again.\n",
            "Enter choice (1/2/3/4) or 'exit' to quit: 2\n",
            "Enter first number: 85\n",
            "Enter second number: 32\n",
            "Result: 53.0\n",
            "Enter choice (1/2/3/4) or 'exit' to quit: 1\n",
            "Enter first number: 23\n",
            "Enter second number: 62\n",
            "Result: 85.0\n",
            "Enter choice (1/2/3/4) or 'exit' to quit: 3\n",
            "Enter first number: 56\n",
            "Enter second number: 55\n",
            "Result: 3080.0\n",
            "Enter choice (1/2/3/4) or 'exit' to quit: 4\n",
            "Enter first number: 98\n",
            "Enter second number: 65\n",
            "Result: 1.5076923076923077\n",
            "Enter choice (1/2/3/4) or 'exit' to quit: 5\n",
            "Invalid input. Please try again.\n",
            "Enter choice (1/2/3/4) or 'exit' to quit: exit\n"
          ]
        }
      ],
      "source": [
        "def add(x, y):\n",
        "    return x + y\n",
        "\n",
        "def subtract(x, y):\n",
        "    return x - y\n",
        "\n",
        "def multiply(x, y):\n",
        "    return x * y\n",
        "\n",
        "def divide(x, y):\n",
        "    if y == 0:\n",
        "        return \"Error: Cannot divide by zero\"\n",
        "    return x / y\n",
        "\n",
        "print(\"Select operation:\")\n",
        "print(\"1. Add\")\n",
        "print(\"2. Subtract\")\n",
        "print(\"3. Multiply\")\n",
        "print(\"4. Divide\")\n",
        "\n",
        "while True:\n",
        "    choice = input(\"Enter choice (1/2/3/4) or 'exit' to quit: \")\n",
        "\n",
        "    if choice == 'exit':\n",
        "        break\n",
        "\n",
        "    if choice not in ['1', '2', '3', '4']:\n",
        "        print(\"Invalid input. Please try again.\")\n",
        "        continue\n",
        "\n",
        "    num1 = float(input(\"Enter first number: \"))\n",
        "    num2 = float(input(\"Enter second number: \"))\n",
        "\n",
        "    if choice == '1':\n",
        "        print(\"Result:\", add(num1, num2))\n",
        "    elif choice == '2':\n",
        "        print(\"Result:\", subtract(num1, num2))\n",
        "    elif choice == '3':\n",
        "        print(\"Result:\", multiply(num1, num2))\n",
        "    elif choice == '4':\n",
        "        print(\"Result:\", divide(num1, num2))"
      ]
    }
  ]
}